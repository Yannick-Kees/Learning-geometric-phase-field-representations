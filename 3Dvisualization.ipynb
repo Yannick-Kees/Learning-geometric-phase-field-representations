{
 "cells": [
  {
   "cell_type": "code",
   "execution_count": 2,
   "metadata": {},
   "outputs": [
    {
     "data": {
      "application/vnd.jupyter.widget-view+json": {
       "model_id": "73978e6ce12c4ac5ab234146baa9624f",
       "version_major": 2,
       "version_minor": 0
      },
      "text/plain": [
       "Output()"
      ]
     },
     "metadata": {},
     "output_type": "display_data"
    }
   ],
   "source": [
    "from networks import *\n",
    "\n",
    "\n",
    "#f = ParkEtAl(3, [128]*4, [2] )\n",
    "f = network = ParkEtAl(3, [128]*4, [2], FourierFeatures=True, num_features = 6, sigma = .3 )\n",
    "f.load_state_dict(torch.load(r\"models/largecubeFFPARK.pth\"))\n",
    "f.eval()\n",
    "\n",
    "plot_implicit(f)\n"
   ]
  },
  {
   "cell_type": "code",
   "execution_count": 29,
   "metadata": {},
   "outputs": [
    {
     "name": "stdout",
     "output_type": "stream",
     "text": [
      "tensor([-1.0000], grad_fn=<TanhBackward0>)\n"
     ]
    }
   ],
   "source": [
    "print( f(torch.tensor( [0.3,0.3,0.2] ) )   )"
   ]
  }
 ],
 "metadata": {
  "interpreter": {
   "hash": "86d3da1dae2eeea82dfa23ad982dc0c861be07d11fb3566b1f582dc2c85a69a6"
  },
  "kernelspec": {
   "display_name": "Python 3.9.6 64-bit",
   "language": "python",
   "name": "python3"
  },
  "language_info": {
   "codemirror_mode": {
    "name": "ipython",
    "version": 3
   },
   "file_extension": ".py",
   "mimetype": "text/x-python",
   "name": "python",
   "nbconvert_exporter": "python",
   "pygments_lexer": "ipython3",
   "version": "3.9.6"
  },
  "orig_nbformat": 4
 },
 "nbformat": 4,
 "nbformat_minor": 2
}
