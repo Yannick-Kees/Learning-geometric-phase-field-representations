{
 "cells": [
  {
   "cell_type": "code",
   "execution_count": 17,
   "metadata": {},
   "outputs": [
    {
     "data": {
      "text/plain": [
       "ParkEtAl(\n",
       "  (FFL): GaussianEncoding()\n",
       "  (lin0): Linear(in_features=48, out_features=512, bias=True)\n",
       "  (lin1): Linear(in_features=512, out_features=512, bias=True)\n",
       "  (lin2): Linear(in_features=512, out_features=512, bias=True)\n",
       "  (lin3): Linear(in_features=512, out_features=509, bias=True)\n",
       "  (lin4): Linear(in_features=512, out_features=512, bias=True)\n",
       "  (lin5): Linear(in_features=512, out_features=512, bias=True)\n",
       "  (lin6): Linear(in_features=512, out_features=512, bias=True)\n",
       "  (lin7): Linear(in_features=512, out_features=1, bias=True)\n",
       "  (activation): Softplus(beta=100, threshold=20)\n",
       ")"
      ]
     },
     "execution_count": 17,
     "metadata": {},
     "output_type": "execute_result"
    }
   ],
   "source": [
    "from networks import *\n",
    "\n",
    "\n",
    "#f = ParkEtAl(3, [128]*4, [2] )\n",
    "#f = network = ParkEtAl(3, [128]*4, [2], FourierFeatures=True, num_features = 6, sigma = .3 )\n",
    "#f = ParkEtAl(3, [512]*7, [4], FourierFeatures=True, num_features = 8, sigma = 1.3 )\n",
    "f = ParkEtAl(3, [512]*7, [4], FourierFeatures=True, num_features = 8, sigma = .3 )\n",
    "#\n",
    "# f = network = ParkEtAl(3, [128]*4, [2], FourierFeatures=False, num_features = 6, sigma = .3 )\n",
    "f.load_state_dict(torch.load(r\"C:\\Users\\Yannick\\Desktop\\MA\\Programming part\\models\\bunnyPLY140_17.pth\", map_location=device))\n",
    "f.eval()\n",
    "\n",
    "#plot_implicit(f, shift=True)\n"
   ]
  },
  {
   "cell_type": "code",
   "execution_count": 18,
   "metadata": {},
   "outputs": [
    {
     "name": "stdout",
     "output_type": "stream",
     "text": [
      "tensor([-0.0002], grad_fn=<AddBackward0>)\n",
      "tensor([1.0016], grad_fn=<AddBackward0>)\n"
     ]
    }
   ],
   "source": [
    "print( f(torch.tensor( [0.0,-0.1,0.0] ) )   )\n",
    "print( f(torch.tensor( [0.0,-0.5,0.0] ) )   )"
   ]
  },
  {
   "cell_type": "markdown",
   "metadata": {},
   "source": [
    "\n",
    "f = ParkEtAl(3, [128]*4, [2] )\n",
    "bigcube, bumpy, cube, quadrat, quadrat_2, quadrat3D\n",
    "\n",
    "f = network = ParkEtAl(3, [128]*4, [2], FourierFeatures=False, num_features = 6, sigma = .3 )\n",
    "bigcubePARK, bumpyPARK, CubePARK\n",
    "\n",
    "f = network = ParkEtAl(3, [128]*4, [2], FourierFeatures=True, num_features = 6, sigma = .3 )\n",
    "largecubeFFPARK, bumpyFFPARK\n",
    "\n",
    "f = network = ParkEtAl(3, [128]*4, [2], FourierFeatures=True, num_features = 8, sigma = .3 )\n",
    "bumpyFFPARK2 (mu = .5)\n",
    "\n",
    "VOLTA\n",
    "f = ParkEtAl(3, [512]*7, [4], FourierFeatures=True, num_features = 8, sigma = .3 )\n",
    "bunny, bunny2 (mu=0), bunny3,4,5,6,AT,AT2,\n",
    "\n",
    "\n",
    "f = ParkEtAl(3, [512]*7, [4], FourierFeatures=False, num_features = 8, sigma = .3 )\n",
    "bunny7\n",
    "\n",
    "f = ParkEtAl(3, [256]*5, [], FourierFeatures=False, num_features = 8, sigma = 1.3 )\n",
    "scheibeMM\n",
    "\n",
    "f  = ParkEtAl(3, [512]*7, [4], FourierFeatures=True, num_features = 4, sigma = 1.3 )\n",
    "bunnyPLY140\n",
    "\n"
   ]
  }
 ],
 "metadata": {
  "interpreter": {
   "hash": "00772da745125251872b1142a666f2591652716d47b14dd7fc627fae217aaf12"
  },
  "kernelspec": {
   "display_name": "Python 3.9.6 64-bit",
   "language": "python",
   "name": "python3"
  },
  "language_info": {
   "codemirror_mode": {
    "name": "ipython",
    "version": 3
   },
   "file_extension": ".py",
   "mimetype": "text/x-python",
   "name": "python",
   "nbconvert_exporter": "python",
   "pygments_lexer": "ipython3",
   "version": "3.9.6"
  },
  "orig_nbformat": 4
 },
 "nbformat": 4,
 "nbformat_minor": 2
}
