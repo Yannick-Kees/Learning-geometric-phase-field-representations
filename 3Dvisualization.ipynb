{
 "cells": [
  {
   "cell_type": "code",
   "execution_count": 1,
   "metadata": {},
   "outputs": [
    {
     "name": "stderr",
     "output_type": "stream",
     "text": [
      "C:\\Users\\Yannick\\AppData\\Local\\Programs\\Python\\Python39\\lib\\site-packages\\torch\\cuda\\__init__.py:80: UserWarning: CUDA initialization: The NVIDIA driver on your system is too old (found version 9010). Please update your GPU driver by downloading and installing a new version from the URL: http://www.nvidia.com/Download/index.aspx Alternatively, go to: https://pytorch.org to install a PyTorch version that has been compiled with your version of the CUDA driver. (Triggered internally at  ..\\c10\\cuda\\CUDAFunctions.cpp:112.)\n",
      "  return torch._C._cuda_getDeviceCount() > 0\n"
     ]
    }
   ],
   "source": [
    "from networks import *\n",
    "\n",
    "\n",
    "#f = ParkEtAl(3, [128]*4, [2] )\n",
    "#f = network = ParkEtAl(3, [128]*4, [2], FourierFeatures=True, num_features = 6, sigma = .3 )\n",
    "#f = ParkEtAl(3, [512]*7, [4], FourierFeatures=True, num_features = 8, sigma = 1.3 )\n",
    "f = ParkEtAl(3, [256]*5, [], FourierFeatures=False, num_features = 8, sigma = 1.3 )\n",
    "f.load_state_dict(torch.load(r\"C:\\Users\\Yannick\\Desktop\\MA\\Programming part\\models\\scheibeMM.pth\", map_location=device))\n",
    "f.eval()\n",
    "\n",
    "plot_implicit(f, shift=True)\n"
   ]
  },
  {
   "cell_type": "code",
   "execution_count": 4,
   "metadata": {},
   "outputs": [
    {
     "name": "stdout",
     "output_type": "stream",
     "text": [
      "tensor([1.0096], grad_fn=<AddBackward0>)\n"
     ]
    }
   ],
   "source": [
    "print( f(torch.tensor( [0.0,0.0,0.5] ) )   )"
   ]
  },
  {
   "cell_type": "markdown",
   "metadata": {},
   "source": [
    "\n",
    "f = ParkEtAl(3, [128]*4, [2] )\n",
    "bigcube, bumpy, cube, quadrat, quadrat_2, quadrat3D\n",
    "\n",
    "f = network = ParkEtAl(3, [128]*4, [2], FourierFeatures=False, num_features = 6, sigma = .3 )\n",
    "bigcubePARK, bumpyPARK, CubePARK\n",
    "\n",
    "f = network = ParkEtAl(3, [128]*4, [2], FourierFeatures=True, num_features = 6, sigma = .3 )\n",
    "largecubeFFPARK, bumpyFFPARK\n",
    "\n",
    "f = network = ParkEtAl(3, [128]*4, [2], FourierFeatures=True, num_features = 8, sigma = .3 )\n",
    "bumpyFFPARK2 (mu = .5)\n",
    "\n",
    "VOLTA\n",
    "f = ParkEtAl(3, [512]*7, [4], FourierFeatures=True, num_features = 8, sigma = .3 )\n",
    "bunny, bunny2 (mu=0), bunny3,4,5,6,AT,AT2\n",
    "\n",
    "\n",
    "f = ParkEtAl(3, [512]*7, [4], FourierFeatures=False, num_features = 8, sigma = .3 )\n",
    "bunny7\n",
    "\n",
    "f = ParkEtAl(3, [256]*5, [], FourierFeatures=False, num_features = 8, sigma = 1.3 )\n",
    "scheibeMM\n"
   ]
  }
 ],
 "metadata": {
  "interpreter": {
   "hash": "86d3da1dae2eeea82dfa23ad982dc0c861be07d11fb3566b1f582dc2c85a69a6"
  },
  "kernelspec": {
   "display_name": "Python 3.9.6 64-bit",
   "language": "python",
   "name": "python3"
  },
  "language_info": {
   "codemirror_mode": {
    "name": "ipython",
    "version": 3
   },
   "file_extension": ".py",
   "mimetype": "text/x-python",
   "name": "python",
   "nbconvert_exporter": "python",
   "pygments_lexer": "ipython3",
   "version": "3.9.6"
  },
  "orig_nbformat": 4
 },
 "nbformat": 4,
 "nbformat_minor": 2
}
